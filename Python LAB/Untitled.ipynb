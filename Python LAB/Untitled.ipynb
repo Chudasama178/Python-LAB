{
 "cells": [
  {
   "cell_type": "code",
   "execution_count": 9,
   "id": "6d4f3b89",
   "metadata": {},
   "outputs": [
    {
     "name": "stdout",
     "output_type": "stream",
     "text": [
      "Enter no of products : 2\n",
      "Enter name :pen\n",
      "Enter quantity : 2\n",
      "Enter price : 10\n",
      "Enter name :pencil\n",
      "Enter quantity : 3\n",
      "Enter price : 5.5\n",
      "Name                Quanity             Price               Total               \n",
      "pen                 2.0                 10.0                20.0                \n",
      "pencil              3.0                 5.5                 16.5                \n"
     ]
    }
   ],
   "source": [
    "n=int(input(\"Enter no of products : \"))\n",
    "products=[]\n",
    "for i in range(n):\n",
    "    name=input(\"Enter name :\")\n",
    "    quantity=float(input(\"Enter quantity : \"))\n",
    "    price=float(input(\"Enter price : \"))\n",
    "    total=quantity*price\n",
    "    products.append([name,quantity,price,total])\n",
    "# print(products)\n",
    "print(f\"{'Name':<20}{'Quanity':<20}{'Price':<20}{'Total':<20}\")\n",
    "for product in products:\n",
    "    print(f\"{product[0]:<20}{product[1]:<20}{product[2]:<20}{product[3]:<20}\")\n",
    "\n",
    "    "
   ]
  },
  {
   "cell_type": "markdown",
   "id": "861c555a",
   "metadata": {},
   "source": [
    "### Get tuple from User"
   ]
  },
  {
   "cell_type": "code",
   "execution_count": 10,
   "id": "330468cf",
   "metadata": {},
   "outputs": [
    {
     "name": "stdout",
     "output_type": "stream",
     "text": [
      "Enter size of tuple : 5\n",
      "Enter  element : 1\n",
      "Enter  element : 2\n",
      "Enter  element : 3\n",
      "Enter  element : 4\n",
      "Enter  element : 5\n",
      "(1, 2, 3, 4, 5)\n"
     ]
    }
   ],
   "source": [
    "n=int(input(\"Enter size of tuple : \"))\n",
    "l1=[]\n",
    "for i in range(n):\n",
    "    l1.append(int(input(\"Enter  element : \")))\n",
    "t=tuple(l1)\n",
    "print(t)"
   ]
  },
  {
   "cell_type": "markdown",
   "id": "327356c2",
   "metadata": {},
   "source": [
    "### List of tuple"
   ]
  },
  {
   "cell_type": "code",
   "execution_count": 13,
   "id": "cce726e2",
   "metadata": {},
   "outputs": [
    {
     "name": "stdout",
     "output_type": "stream",
     "text": [
      "Enter size of list : 3\n",
      "Enter size of tuple : 5\n",
      "Enter element 1 : 1\n",
      "Enter element 2 : 2\n",
      "Enter element 3 : 3\n",
      "Enter element 4 : 4\n",
      "Enter element 5 : 5\n",
      "Enter size of tuple : 2\n",
      "Enter element 1 : 4\n",
      "Enter element 2 : 5\n",
      "Enter size of tuple : 2\n",
      "Enter element 1 : -8\n",
      "Enter element 2 : -9\n",
      "[(1, 2, 3, 4, 5), (4, 5), (-8, -9)]\n"
     ]
    }
   ],
   "source": [
    "n=int(input(\"Enter size of list : \"))\n",
    "l1=[]\n",
    "for i in range(n):\n",
    "    n1=int(input(\"Enter size of tuple : \"))\n",
    "    l2=[]\n",
    "    for j in range(n1):\n",
    "        l2.append(int(input(f\"Enter element {j+1} : \")))\n",
    "    l1.append(tuple(l2))\n",
    "print(l1)"
   ]
  },
  {
   "cell_type": "code",
   "execution_count": null,
   "id": "2f2938f5",
   "metadata": {},
   "outputs": [],
   "source": []
  }
 ],
 "metadata": {
  "kernelspec": {
   "display_name": "Python 3 (ipykernel)",
   "language": "python",
   "name": "python3"
  },
  "language_info": {
   "codemirror_mode": {
    "name": "ipython",
    "version": 3
   },
   "file_extension": ".py",
   "mimetype": "text/x-python",
   "name": "python",
   "nbconvert_exporter": "python",
   "pygments_lexer": "ipython3",
   "version": "3.11.5"
  }
 },
 "nbformat": 4,
 "nbformat_minor": 5
}
