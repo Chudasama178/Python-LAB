{
 "cells": [
  {
   "cell_type": "markdown",
   "metadata": {},
   "source": [
    "<a href='https://www.darshan.ac.in/'> <img src='https://www.darshan.ac.in/Content/media/DU_Logo.svg' width=\"250\" height=\"300\"/></a>\n",
    "<pre>\n",
    "<center><b><h1>Python Programming - 2304CS401</b></center>\n",
    "<center><b><h1>Lab - 7</b></center>    \n",
    "<pre>"
   ]
  },
  {
   "cell_type": "markdown",
   "metadata": {},
   "source": [
    "# Understand Working of set"
   ]
  },
  {
   "cell_type": "markdown",
   "metadata": {},
   "source": [
    "### 01) Write a program to create a set using the list of elements and find its size"
   ]
  },
  {
   "cell_type": "code",
   "execution_count": 6,
   "metadata": {},
   "outputs": [
    {
     "name": "stdout",
     "output_type": "stream",
     "text": [
      "Set: {33, 11, 44, 22}\n",
      "List: [11, 22, 33, 44]\n"
     ]
    }
   ],
   "source": [
    "# Using a set\n",
    "elements = set()\n",
    "elements.add(11)\n",
    "elements.add(22)\n",
    "elements.add(33)\n",
    "elements.add(44)\n",
    "print(\"Set:\", elements)  # Output order is arbitrary\n",
    "\n",
    "# Using a list to preserve order\n",
    "elements_list = []\n",
    "elements_list.append(11)\n",
    "elements_list.append(22)\n",
    "elements_list.append(33)\n",
    "elements_list.append(44)\n",
    "print(\"List:\", elements_list)  # Output order matches insertion"
   ]
  },
  {
   "cell_type": "code",
   "execution_count": 1,
   "metadata": {},
   "outputs": [
    {
     "name": "stdout",
     "output_type": "stream",
     "text": [
      "Enter your number for list::: 5\n",
      "Enter your element 1:: 11\n",
      "Enter your element 2:: 22\n",
      "Enter your element 3:: 33\n",
      "Enter your element 4:: 44\n",
      "Enter your element 5:: 44\n",
      "\n",
      "Original List: [11, 22, 33, 44, 44]\n",
      "Set of Unique Elements: {33, 11, 44, 22}\n",
      "Size of the Set: 4\n"
     ]
    }
   ],
   "source": [
    "n = int(input(\"Enter your number for list::: \"))\n",
    "l1 = []\n",
    "for i in range(1, n + 1):\n",
    "    ele = int(input(f\"Enter your element {i}:: \"))\n",
    "    l1.append(ele)\n",
    "unique_elements = set(l1)\n",
    "\n",
    "set_size = len(unique_elements)\n",
    "\n",
    "# Display results\n",
    "print(\"\\nOriginal List:\", l1)\n",
    "print(\"Set of Unique Elements:\", unique_elements)\n",
    "print(\"Size of the Set:\", set_size)\n"
   ]
  },
  {
   "cell_type": "markdown",
   "metadata": {},
   "source": [
    "### 02) WWrite a program to find the maximum and minimum elements from a given set."
   ]
  },
  {
   "cell_type": "code",
   "execution_count": 2,
   "metadata": {},
   "outputs": [
    {
     "name": "stdout",
     "output_type": "stream",
     "text": [
      "Enter the number of elements in the set: 5\n",
      "Enter element 1: 11\n",
      "Enter element 2: 22\n",
      "Enter element 3: 33\n",
      "Enter element 4: 44\n",
      "Enter element 5: 55\n",
      "{33, 11, 44, 22, 55}\n",
      "Maximum Element: 55\n",
      "Minimum Element: 11\n"
     ]
    }
   ],
   "source": [
    "n = int(input(\"Enter the number of elements in the set: \"))\n",
    "elements = set()\n",
    "\n",
    "for i in range(1,n+1):\n",
    "    element = int(input(f\"Enter element {i}: \"))\n",
    "    elements.add(element)\n",
    "print(elements)\n",
    "max_element = max(elements)\n",
    "min_element = min(elements)\n",
    "print(\"Maximum Element:\", max_element)\n",
    "print(\"Minimum Element:\", min_element)"
   ]
  },
  {
   "cell_type": "markdown",
   "metadata": {},
   "source": [
    "### 03) Write a program to remove an element from a set given by the user"
   ]
  },
  {
   "cell_type": "code",
   "execution_count": 4,
   "metadata": {},
   "outputs": [
    {
     "name": "stdout",
     "output_type": "stream",
     "text": [
      "Enter the number of elements in the set: 5\n",
      "Enter element 1: 11\n",
      "Enter element 2: 22\n",
      "Enter element 3: 33\n",
      "Enter element 4: 344\n",
      "Enter element 5: 55\n",
      "\n",
      "Original Set: {33, 11, 22, 55, 344}\n",
      "Enter the element you want to remove from the set: 11\n",
      "\n",
      "Updated Set after removal: {33, 22, 55, 344}\n"
     ]
    }
   ],
   "source": [
    "n = int(input(\"Enter the number of elements in the set: \"))\n",
    "elements = set()\n",
    "\n",
    "for i in range(1, n + 1):\n",
    "    element = int(input(f\"Enter element {i}: \"))\n",
    "    elements.add(element)\n",
    "\n",
    "print(\"\\nOriginal Set:\", elements)\n",
    "\n",
    "rem = int(input(\"Enter the element you want to remove from the set: \"))\n",
    "\n",
    "if rem in elements:\n",
    "    elements.remove(rem)\n",
    "    print(\"\\nUpdated Set after removal:\", elements)\n",
    "else:\n",
    "    print(f\"\\nElement {rem} is not present in the set.\")"
   ]
  },
  {
   "cell_type": "markdown",
   "metadata": {},
   "source": [
    "### 04) Write a program to convert a given set into a tuple and a tuple into a set."
   ]
  },
  {
   "cell_type": "code",
   "execution_count": 8,
   "metadata": {},
   "outputs": [
    {
     "name": "stdout",
     "output_type": "stream",
     "text": [
      "Original Set: {1, 2, 3, 4, 5}\n",
      "Converted Tuple: (1, 2, 3, 4, 5)\n",
      "Original Tuple: (10, 20, 30, 40, 50)\n",
      "Converted Set: {40, 10, 50, 20, 30}\n"
     ]
    }
   ],
   "source": [
    "set1 = {1, 2, 3, 4, 5}\n",
    "tuple1 = ()\n",
    "for i in set1:\n",
    "    tuple1 += (i,)\n",
    "\n",
    "print(\"Original Set:\", set1)\n",
    "print(\"Converted Tuple:\", tuple1)\n",
    "\n",
    "tuple2 = (10, 20, 30, 40, 50)\n",
    "set2 = set()\n",
    "for i in tuple2:\n",
    "    set2.add(i)\n",
    "\n",
    "print(\"Original Tuple:\", tuple2)\n",
    "print(\"Converted Set:\", set2)\n"
   ]
  },
  {
   "cell_type": "markdown",
   "metadata": {},
   "source": [
    "### 05) Write a program to perform union, intersection, difference, and symmetric difference operations for given two sets."
   ]
  },
  {
   "cell_type": "code",
   "execution_count": 3,
   "metadata": {},
   "outputs": [
    {
     "name": "stdout",
     "output_type": "stream",
     "text": [
      "Union of set1 and set2: {1, 2, 3, 4, 5, 6, 7, 8}\n",
      "Intersection of set1 and set2: {4, 5}\n",
      "Difference of set1 and set2 (set1 - set2): {1, 2, 3}\n",
      "Symmetric Difference of set1 and set2: {1, 2, 3, 6, 7, 8}\n"
     ]
    }
   ],
   "source": [
    "set1 = {1, 2, 3, 4, 5}\n",
    "set2 = {4, 5, 6, 7, 8}\n",
    "\n",
    "union_set = set1 | set2 \n",
    "# or\n",
    "# set1.union(set2)\n",
    "print(\"Union of set1 and set2:\", union_set)\n",
    "\n",
    "intersection_set = set1 & set2  \n",
    "# or\n",
    "# set1.intersection(set2)\n",
    "print(\"Intersection of set1 and set2:\", intersection_set)\n",
    "\n",
    "difference_set = set1 - set2  \n",
    "# or \n",
    "# abc=set1.difference(set2)\n",
    "# print(abc)\n",
    "print(\"Difference of set1 and set2 (set1 - set2):\", difference_set)\n",
    "\n",
    "symmetric_difference_set = set1 ^ set2  \n",
    "# or \n",
    "# set1.symmetric_difference(set2)\n",
    "print(\"Symmetric Difference of set1 and set2:\", symmetric_difference_set)\n"
   ]
  },
  {
   "cell_type": "code",
   "execution_count": null,
   "metadata": {},
   "outputs": [],
   "source": []
  }
 ],
 "metadata": {
  "kernelspec": {
   "display_name": "Python 3 (ipykernel)",
   "language": "python",
   "name": "python3"
  },
  "language_info": {
   "codemirror_mode": {
    "name": "ipython",
    "version": 3
   },
   "file_extension": ".py",
   "mimetype": "text/x-python",
   "name": "python",
   "nbconvert_exporter": "python",
   "pygments_lexer": "ipython3",
   "version": "3.11.5"
  }
 },
 "nbformat": 4,
 "nbformat_minor": 4
}
