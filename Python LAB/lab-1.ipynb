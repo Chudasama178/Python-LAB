{
 "cells": [
  {
   "cell_type": "markdown",
   "metadata": {},
   "source": [
    "<a href='https://www.darshan.ac.in/'> <img src='https://www.darshan.ac.in/Content/media/DU_Logo.svg' width=\"250\" height=\"300\"/></a>\n",
    "<pre>\n",
    "<center><b><h1>Python Programming - 2304CS401</b></center>\n",
    "<center><b><h1>Lab - 1</b></center>    \n",
    "<pre>"
   ]
  },
  {
   "cell_type": "markdown",
   "metadata": {},
   "source": [
    "# Basic programs to understand the working of python."
   ]
  },
  {
   "cell_type": "markdown",
   "metadata": {},
   "source": [
    "### 01) WAP to print “Hello World”"
   ]
  },
  {
   "cell_type": "code",
   "execution_count": null,
   "metadata": {},
   "outputs": [],
   "source": [
    "print(\"Hello World\")"
   ]
  },
  {
   "cell_type": "markdown",
   "metadata": {},
   "source": [
    "### 02) WAP to print your address i) using single print ii) using multiple print"
   ]
  },
  {
   "cell_type": "code",
   "execution_count": 1,
   "metadata": {},
   "outputs": [
    {
     "name": "stdout",
     "output_type": "stream",
     "text": [
      "Village-Trambak,Taluka-Ghogha,District-Bhavnagar,PinCode-364050\n"
     ]
    }
   ],
   "source": [
    "print(\"Village-Trambak,Taluka-Ghogha,District-Bhavnagar,PinCode-364050\")"
   ]
  },
  {
   "cell_type": "code",
   "execution_count": 6,
   "metadata": {},
   "outputs": [
    {
     "name": "stdout",
     "output_type": "stream",
     "text": [
      "Village-Trambak,Taluka-Ghogha,District-Bhavnagar,PinCode-364050\n"
     ]
    }
   ],
   "source": [
    "print(\"Village-Trambak\",end=\",\")\n",
    "print(\"Taluka-Ghogha\",end=\",\")\n",
    "print(\"District-Bhavnagar\",end=\",\")\n",
    "print(\"PinCode-364050\")"
   ]
  },
  {
   "cell_type": "markdown",
   "metadata": {},
   "source": [
    "### 03) WAP to print addition of 2 numbers (without input function)"
   ]
  },
  {
   "cell_type": "code",
   "execution_count": 8,
   "metadata": {},
   "outputs": [
    {
     "name": "stdout",
     "output_type": "stream",
     "text": [
      "20\n"
     ]
    }
   ],
   "source": [
    "a=10\n",
    "b=10\n",
    "print(a+b)"
   ]
  },
  {
   "cell_type": "markdown",
   "metadata": {},
   "source": [
    "### 04) WAP to calculate and print average of 2 numbers (without input function)"
   ]
  },
  {
   "cell_type": "code",
   "execution_count": 9,
   "metadata": {},
   "outputs": [
    {
     "name": "stdout",
     "output_type": "stream",
     "text": [
      "10.0\n"
     ]
    }
   ],
   "source": [
    "a=10\n",
    "b=10\n",
    "print((a+b)/2)"
   ]
  },
  {
   "cell_type": "markdown",
   "metadata": {},
   "source": [
    "### 05) WAP to add two number entered by user."
   ]
  },
  {
   "cell_type": "code",
   "execution_count": 10,
   "metadata": {},
   "outputs": [
    {
     "name": "stdout",
     "output_type": "stream",
     "text": [
      "Enter your number A:10\n",
      "Enter your number B:23\n",
      "33\n"
     ]
    }
   ],
   "source": [
    "a = int(input(\"Enter your number A:\"))\n",
    "b = int(input(\"Enter your number B:\"))\n",
    "print(a+b)"
   ]
  },
  {
   "cell_type": "markdown",
   "metadata": {},
   "source": [
    "### 06) Write a program to calculate the area of a circle"
   ]
  },
  {
   "cell_type": "code",
   "execution_count": 13,
   "metadata": {},
   "outputs": [
    {
     "name": "stdout",
     "output_type": "stream",
     "text": [
      "Enter your radius::2\n",
      "12.56\n"
     ]
    }
   ],
   "source": [
    "r=float(input(\"Enter your radius::\"))\n",
    "area = 3.14*r**2\n",
    "print(area)"
   ]
  },
  {
   "cell_type": "markdown",
   "metadata": {},
   "source": [
    "### 7) Write a program to take 4 subjects' marks from the user and calculate total marks & Percentage."
   ]
  },
  {
   "cell_type": "code",
   "execution_count": 14,
   "metadata": {},
   "outputs": [
    {
     "name": "stdout",
     "output_type": "stream",
     "text": [
      "Enter marks of sub 1::56\n",
      "Enter marks of sub 2::65\n",
      "Enter marks of sub 3::76\n",
      "Enter marks of sub 4::56\n",
      "Sum of marks of four subjects is::253.0\n",
      "Percentage of four subject is::63.24999999999999\n"
     ]
    }
   ],
   "source": [
    "a=float(input(\"Enter marks of sub 1::\"))\n",
    "b=float(input(\"Enter marks of sub 2::\"))\n",
    "c=float(input(\"Enter marks of sub 3::\"))\n",
    "d=float(input(\"Enter marks of sub 4::\"))\n",
    "sum = a+b+c+d\n",
    "percentage  = ((sum)/400)*100\n",
    "print(f\"Sum of marks of four subjects is::{sum}\")\n",
    "print(f\"Percentage of four subject is::{percentage}\")\n"
   ]
  },
  {
   "cell_type": "markdown",
   "metadata": {},
   "source": [
    "### 08) WAP to calculate Area of Triangle (hint: a = h * b * 0.5)"
   ]
  },
  {
   "cell_type": "code",
   "execution_count": 16,
   "metadata": {},
   "outputs": [
    {
     "name": "stdout",
     "output_type": "stream",
     "text": [
      "Enter height of your triangle::43\n",
      "Enter width  of your triangle::23\n",
      "Area of triangele is::494.5\n"
     ]
    }
   ],
   "source": [
    "h=float(input(\"Enter height of your triangle::\"))\n",
    "b=float(input(\"Enter width  of your triangle::\"))\n",
    "area = 0.5*h*b\n",
    "print(f\"Area of triangele is::{area}\")"
   ]
  },
  {
   "cell_type": "markdown",
   "metadata": {},
   "source": [
    "### 09) Write a program to calculate the area of a rectangle."
   ]
  },
  {
   "cell_type": "code",
   "execution_count": 17,
   "metadata": {},
   "outputs": [
    {
     "name": "stdout",
     "output_type": "stream",
     "text": [
      "Enter length of rectangle::4\n",
      "Enter breath of rectangle::3\n",
      "Area of rectangle is::12.0\n"
     ]
    }
   ],
   "source": [
    "l=float(input(\"Enter length of rectangle::\"))\n",
    "b=float(input(\"Enter breath of rectangle::\"))\n",
    "area = l*b\n",
    "print(f\"Area of rectangle is::{area}\")"
   ]
  },
  {
   "cell_type": "markdown",
   "metadata": {},
   "source": [
    "### 10) WAP to calculate simple interest."
   ]
  },
  {
   "cell_type": "code",
   "execution_count": null,
   "metadata": {},
   "outputs": [],
   "source": [
    "p = int(input(\"Enter your amount::\"))\n",
    "r = int(input(\"Enter your simple intrest rate annul ::\"))\n",
    "t = int(input(\"Enter your time::\"))\n",
    "simple_interest = (p*r*t)/100\n",
    "print(f\"\")"
   ]
  },
  {
   "cell_type": "markdown",
   "metadata": {},
   "source": [
    "### 11) Write a program to print a multiplication table of a given number"
   ]
  },
  {
   "cell_type": "code",
   "execution_count": null,
   "metadata": {},
   "outputs": [],
   "source": []
  },
  {
   "cell_type": "markdown",
   "metadata": {},
   "source": [
    "### 12) Write a program to convert Celsius to Fahrenheit and vice versa.(Hint- F ((9*C/5)+32)"
   ]
  },
  {
   "cell_type": "code",
   "execution_count": null,
   "metadata": {},
   "outputs": [],
   "source": []
  },
  {
   "cell_type": "code",
   "execution_count": null,
   "metadata": {},
   "outputs": [],
   "source": []
  }
 ],
 "metadata": {
  "kernelspec": {
   "display_name": "Python 3 (ipykernel)",
   "language": "python",
   "name": "python3"
  },
  "language_info": {
   "codemirror_mode": {
    "name": "ipython",
    "version": 3
   },
   "file_extension": ".py",
   "mimetype": "text/x-python",
   "name": "python",
   "nbconvert_exporter": "python",
   "pygments_lexer": "ipython3",
   "version": "3.11.5"
  },
  "vscode": {
   "interpreter": {
    "hash": "31f2aee4e71d21fbe5cf8b01ff0e069b9275f58929596ceb00d14d90e3e16cd6"
   }
  }
 },
 "nbformat": 4,
 "nbformat_minor": 4
}
