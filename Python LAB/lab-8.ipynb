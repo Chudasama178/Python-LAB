{
 "cells": [
  {
   "cell_type": "markdown",
   "metadata": {},
   "source": [
    "<a href='https://www.darshan.ac.in/'> <img src='https://www.darshan.ac.in/Content/media/DU_Logo.svg' width=\"250\" height=\"300\"/></a>\n",
    "<pre>\n",
    "<center><b><h1>Python Programming - 2304CS401</b></center>\n",
    "<center><b><h1>Lab - 8</b></center>    \n",
    "<pre>"
   ]
  },
  {
   "cell_type": "markdown",
   "metadata": {},
   "source": [
    "# Understand Working of dictionary "
   ]
  },
  {
   "cell_type": "markdown",
   "metadata": {},
   "source": [
    "### 01) Write a program to create a dictionary for N values and print the size of the dictionary"
   ]
  },
  {
   "cell_type": "code",
   "execution_count": 1,
   "metadata": {},
   "outputs": [
    {
     "name": "stdout",
     "output_type": "stream",
     "text": [
      "Enter the number of key-value pairs you want to add to the dictionary: 4\n",
      "Enter key 1: Name\n",
      "Enter value for key Name: Rahul\n",
      "Enter key 2: Roll no\n",
      "Enter value for key Roll no: 108\n",
      "Enter key 3: Collage\n",
      "Enter value for key Collage: DIET\n",
      "Enter key 4: Program\n",
      "Enter value for key Program: B.Tech\n",
      "Dictionary: {'Name': 'Rahul', 'Roll no': '108', 'Collage': 'DIET', 'Program': 'B.Tech'}\n",
      "Size of the dictionary: 4\n"
     ]
    }
   ],
   "source": [
    "my_dict = {}\n",
    "\n",
    "N = int(input(\"Enter the number of key-value pairs you want to add to the dictionary: \"))\n",
    "\n",
    "for i in range(1, N + 1):\n",
    "    key = input(f\"Enter key {i}: \")\n",
    "    value = input(f\"Enter value for key {key}: \")\n",
    "    my_dict[key] = value\n",
    "\n",
    "print(\"Dictionary:\", my_dict)\n",
    "\n",
    "print(\"Size of the dictionary:\", len(my_dict))"
   ]
  },
  {
   "cell_type": "markdown",
   "metadata": {},
   "source": [
    "### 02) Write a program to create a dictionary from a string."
   ]
  },
  {
   "cell_type": "code",
   "execution_count": 2,
   "metadata": {},
   "outputs": [
    {
     "name": "stdout",
     "output_type": "stream",
     "text": [
      "Enter a string: Darshan\n",
      "Dictionary from the string: {'D': 1, 'a': 2, 'r': 1, 's': 1, 'h': 1, 'n': 1}\n"
     ]
    }
   ],
   "source": [
    "input_string = input(\"Enter a string: \")\n",
    "char_count = {}\n",
    "for char in input_string:\n",
    "    if char in char_count:\n",
    "        char_count[char] += 1\n",
    "    else:\n",
    "        char_count[char] = 1\n",
    "print(\"Dictionary from the string:\", char_count)"
   ]
  },
  {
   "cell_type": "markdown",
   "metadata": {},
   "source": [
    "### 03) Write a program to sort a dictionary by key in ascending and descending order"
   ]
  },
  {
   "cell_type": "code",
   "execution_count": 2,
   "metadata": {},
   "outputs": [
    {
     "name": "stdout",
     "output_type": "stream",
     "text": [
      "Original Dictionary: {'apple': 10, 'date': 12, 'banana': 5, 'cherry': 8, 'elderberry': 3}\n",
      "Sorted Dictionary by Key (Ascending): {'apple': 10, 'banana': 5, 'cherry': 8, 'date': 12, 'elderberry': 3}\n",
      "Sorted Dictionary by Key (Descending): {'elderberry': 3, 'date': 12, 'cherry': 8, 'banana': 5, 'apple': 10}\n"
     ]
    }
   ],
   "source": [
    "my_dict = {\n",
    "    'apple': 10,\n",
    "    'date': 12,\n",
    "    'banana': 5,\n",
    "    'cherry': 8,\n",
    "    'elderberry': 3\n",
    "}\n",
    "sorted_dict_asc = dict(sorted(my_dict.items()))\n",
    "sorted_dict_desc = dict(sorted(my_dict.items(), reverse=True))\n",
    "\n",
    "print(\"Original Dictionary:\", my_dict)\n",
    "print(\"Sorted Dictionary by Key (Ascending):\", sorted_dict_asc)\n",
    "print(\"Sorted Dictionary by Key (Descending):\", sorted_dict_desc)\n"
   ]
  },
  {
   "cell_type": "markdown",
   "metadata": {},
   "source": [
    "### 04) Write a program to enter a key and add a key to a dictionary if it does not exist."
   ]
  },
  {
   "cell_type": "code",
   "execution_count": 15,
   "metadata": {},
   "outputs": [
    {
     "name": "stdout",
     "output_type": "stream",
     "text": [
      "Enter the key to add: mango\n",
      "Enter the value for this key: 20\n",
      "Key 'mango' added with value 20.\n",
      "Updated Dictionary: {'apple': 10, 'banana': 5, 'cherry': 8, 'mango': '20'}\n"
     ]
    }
   ],
   "source": [
    "my_dict = {\n",
    "    'apple': 10,\n",
    "    'banana': 5,\n",
    "    'cherry': 8\n",
    "}\n",
    "\n",
    "key = input(\"Enter the key to add: \")\n",
    "value = input(\"Enter the value for this key: \")\n",
    "\n",
    "if key not in my_dict:\n",
    "    my_dict[key] = value\n",
    "    print(f\"Key '{key}' added with value {value}.\")\n",
    "else:\n",
    "    print(f\"Key '{key}' already exists in the dictionary.\")\n",
    "\n",
    "print(\"Updated Dictionary:\", my_dict)\n"
   ]
  },
  {
   "cell_type": "markdown",
   "metadata": {},
   "source": [
    "### 05) Write a program to sort a dictionary by value in ascending and descending order."
   ]
  },
  {
   "cell_type": "code",
   "execution_count": null,
   "metadata": {},
   "outputs": [],
   "source": [
    "my_dict = {\n",
    "    'apple': 10,\n",
    "    'date': 12,\n",
    "    'banana': 5,\n",
    "    'cherry': 8,\n",
    "    'elderberry': 3\n",
    "}\n",
    "sorted_dict_asc = dict(sorted(my_dict.items(),key=lambda item:item[1]))\n",
    "sorted_dict_desc = dict(sorted(my_dict.items(),key=lambda item:item[1], reverse=True))\n",
    "\n",
    "print(\"Original Dictionary:\", my_dict)\n",
    "print(\"Sorted Dictionary by Key (Ascending):\", sorted_dict_asc)\n",
    "print(\"Sorted Dictionary by Key (Descending):\", sorted_dict_desc)\n"
   ]
  },
  {
   "cell_type": "markdown",
   "metadata": {},
   "source": [
    "### 06) Write a program to enter a key and to remove a key from a dictionary if it exists. "
   ]
  },
  {
   "cell_type": "code",
   "execution_count": 1,
   "metadata": {},
   "outputs": [
    {
     "name": "stdout",
     "output_type": "stream",
     "text": [
      "Enter the key to remove: apple\n",
      "Key 'apple' has been removed.\n",
      "Updated Dictionary: {'banana': 5, 'cherry': 8, 'orange': 12}\n"
     ]
    }
   ],
   "source": [
    "my_dict = {\n",
    "    'apple': 10,\n",
    "    'banana': 5,\n",
    "    'cherry': 8,\n",
    "    'orange': 12\n",
    "}\n",
    "\n",
    "key_to_remove = input(\"Enter the key to remove: \")\n",
    "\n",
    "if key_to_remove in my_dict:\n",
    "#     del my_dict[key_to_remove]\n",
    "    my_dict.pop(key_to_remove)\n",
    "    print(f\"Key '{key_to_remove}' has been removed.\")\n",
    "else:\n",
    "    print(f\"Key '{key_to_remove}' does not exist in the dictionary.\")\n",
    "\n",
    "print(\"Updated Dictionary:\", my_dict)\n",
    "\n",
    "\n"
   ]
  },
  {
   "cell_type": "markdown",
   "metadata": {},
   "source": [
    "### 07)  Write a program to merge two dictionaries given by the user into one dictionary"
   ]
  },
  {
   "cell_type": "code",
   "execution_count": null,
   "metadata": {},
   "outputs": [],
   "source": []
  },
  {
   "cell_type": "markdown",
   "metadata": {},
   "source": [
    "### 08) Write a program to convert two lists into a dictionary."
   ]
  },
  {
   "cell_type": "code",
   "execution_count": null,
   "metadata": {},
   "outputs": [],
   "source": []
  }
 ],
 "metadata": {
  "kernelspec": {
   "display_name": "Python 3 (ipykernel)",
   "language": "python",
   "name": "python3"
  },
  "language_info": {
   "codemirror_mode": {
    "name": "ipython",
    "version": 3
   },
   "file_extension": ".py",
   "mimetype": "text/x-python",
   "name": "python",
   "nbconvert_exporter": "python",
   "pygments_lexer": "ipython3",
   "version": "3.11.5"
  }
 },
 "nbformat": 4,
 "nbformat_minor": 4
}
