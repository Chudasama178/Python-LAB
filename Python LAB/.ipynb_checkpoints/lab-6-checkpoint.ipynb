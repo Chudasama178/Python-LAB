{
 "cells": [
  {
   "cell_type": "markdown",
   "metadata": {},
   "source": [
    "<a href='https://www.darshan.ac.in/'> <img src='https://www.darshan.ac.in/Content/media/DU_Logo.svg' width=\"250\" height=\"300\"/></a>\n",
    "<pre>\n",
    "<center><b><h1>Python Programming - 2304CS401</b></center>\n",
    "<center><b><h1>Lab - 6</b></center>    \n",
    "<pre>"
   ]
  },
  {
   "cell_type": "markdown",
   "metadata": {},
   "source": [
    "# Understand Working of tuple"
   ]
  },
  {
   "cell_type": "markdown",
   "metadata": {},
   "source": [
    "### 01) . Write a program to enter values and reverse the tuple"
   ]
  },
  {
   "cell_type": "code",
   "execution_count": 1,
   "metadata": {},
   "outputs": [
    {
     "name": "stdout",
     "output_type": "stream",
     "text": [
      "Enter your number for list::: 5\n",
      "Enter your element 1:: 11\n",
      "Enter your element 2:: 11\n",
      "Enter your element 3:: 11\n",
      "Enter your element 4:: 22\n",
      "Enter your element 5:: 3\n",
      "Final Tuple: (11, 11, 11, 22, 3)\n",
      "Reverse Tuple: (3, 22, 11, 11, 11)\n"
     ]
    }
   ],
   "source": [
    "n = int(input(\"Enter your number for list::: \"))\n",
    "l1 = []\n",
    "\n",
    "for i in range(1, n + 1):\n",
    "    ele = int(input(f\"Enter your element {i}:: \"))\n",
    "    l1.append(ele)\n",
    "t1 = tuple(l1)\n",
    "print(\"Final Tuple:\", t1)\n",
    "print(\"Reverse Tuple:\", t1[::-1])\n"
   ]
  },
  {
   "cell_type": "markdown",
   "metadata": {},
   "source": [
    "### 02) Write a program to remove duplicate values from the tuple."
   ]
  },
  {
   "cell_type": "code",
   "execution_count": 2,
   "metadata": {},
   "outputs": [
    {
     "name": "stdout",
     "output_type": "stream",
     "text": [
      "Enter the number of elements you want to add to the tuple: 5\n",
      "Enter element 1: 11\n",
      "Enter element 2: 22\n",
      "Enter element 3: 33\n",
      "Enter element 4: 33\n",
      "Enter element 5: 44\n",
      "Final Tuple: ('11', '22', '33', '33', '44')\n",
      "New Tuple ('11', '22', '33', '44')\n"
     ]
    }
   ],
   "source": [
    "t1 = ()\n",
    "n = int(input(\"Enter the number of elements you want to add to the tuple: \"))\n",
    "\n",
    "for i in range(1,n+1):\n",
    "    element = input(f\"Enter element {i}: \")\n",
    "    t1 = t1 + (element,)\n",
    "print(\"Final Tuple:\", t1)\n",
    "# new_t1 = set(t1)\n",
    "new_t1 = ()\n",
    "# ('11', '22', '33', '33', '44')\n",
    "for i in t1:\n",
    "    if i not in new_t1:\n",
    "        new_t1 = new_t1+(i,)\n",
    "print(\"New Tuple\",new_t1)"
   ]
  },
  {
   "cell_type": "markdown",
   "metadata": {},
   "source": [
    "### 03) Write a program to check if the tuple is distinct or not."
   ]
  },
  {
   "cell_type": "code",
   "execution_count": 4,
   "metadata": {},
   "outputs": [
    {
     "name": "stdout",
     "output_type": "stream",
     "text": [
      "Enter the number of elements you want to add to the tuple: 11\n",
      "Enter element 1: 11\n",
      "Enter element 2: 22\n",
      "Enter element 3: 33\n",
      "Enter element 4: 44\n",
      "Enter element 5: 55\n",
      "Enter element 6: 66\n",
      "Enter element 7: 77\n",
      "Enter element 8: 88\n",
      "Enter element 9: 99\n",
      "Enter element 10: 99\n",
      "Enter element 11: 99\n",
      "tuple is not distinct \n"
     ]
    }
   ],
   "source": [
    "t1 = ()\n",
    "n = int(input(\"Enter the number of elements you want to add to the tuple: \"))\n",
    "\n",
    "for i in range(1,n+1):\n",
    "    element = input(f\"Enter element {i}: \")\n",
    "    t1 = t1 + (element,)\n",
    "new_t1 = ()\n",
    "for i in t1:\n",
    "    if i not in new_t1:\n",
    "        new_t1 = new_t1+(i,)\n",
    "if(len(t1)==len(new_t1)):\n",
    "    print(\"tuple is distinct \")\n",
    "else:\n",
    "    print(\"tuple is not distinct \")    \n",
    "# if(len(t1)==len(set(t1))):\n",
    "#     print(\"tuple is distinct \")\n",
    "# else:\n",
    "#     print(\"tuple is not distinct \")"
   ]
  },
  {
   "cell_type": "markdown",
   "metadata": {},
   "source": [
    "### 04) WAP to find Tuples with positive elements in List of tuples."
   ]
  },
  {
   "cell_type": "code",
   "execution_count": 6,
   "metadata": {},
   "outputs": [
    {
     "name": "stdout",
     "output_type": "stream",
     "text": [
      "Enter the number of tuples: 2\n",
      "Enter the size of list: 3\n",
      "Enter element 1: 11\n",
      "Enter element 2: 22\n",
      "Enter element 3: 33\n",
      "Enter the size of list: 3\n",
      "Enter element 1: -1\n",
      "Enter element 2: 2\n",
      "Enter element 3: 2\n",
      "\n",
      "Original List of Tuples: [(11, 22, 33), (-1, 2, 2)]\n",
      "Tuples with only positive elements: [(11, 22, 33)]\n"
     ]
    }
   ],
   "source": [
    "n = int(input(\"Enter the number of tuples: \"))\n",
    "tuple_list = []\n",
    "for i in range(1, n + 1):\n",
    "    l1=[]\n",
    "    n = int(input(\"Enter the size of list: \"))\n",
    "    for i in range(1,n+1):\n",
    "        element = int(input(f\"Enter element {i}: \"))\n",
    "        l1.append(element)\n",
    "    t1 = tuple(l1)    \n",
    "    tuple_list.append(t1)\n",
    "\n",
    "positive_tuples = []\n",
    "\n",
    "for tup in tuple_list:\n",
    "    flag=True\n",
    "    for element in tup:\n",
    "        if element < 0:\n",
    "            flag=False\n",
    "            break\n",
    "    if flag:\n",
    "        positive_tuples.append(tuple(tup)) \n",
    "print(\"\\nOriginal List of Tuples:\", tuple_list)\n",
    "print(\"Tuples with only positive elements:\", positive_tuples)"
   ]
  },
  {
   "cell_type": "markdown",
   "metadata": {},
   "source": [
    "## 05) Write a program to find tuples that have all elements divisible by k from a list of tuples"
   ]
  },
  {
   "cell_type": "code",
   "execution_count": 2,
   "metadata": {},
   "outputs": [
    {
     "name": "stdout",
     "output_type": "stream",
     "text": [
      "Enter the number of tuples: 3\n",
      "Enter your size of tuple 1:4\n",
      "Enter your element of tuple 1:2\n",
      "Enter your element of tuple 2:2\n",
      "Enter your element of tuple 3:2\n",
      "Enter your element of tuple 4:2\n",
      "Enter your size of tuple 2:2\n",
      "Enter your element of tuple 1:11\n",
      "Enter your element of tuple 2:22\n",
      "Enter your size of tuple 3:4\n",
      "Enter your element of tuple 1:2\n",
      "Enter your element of tuple 2:4\n",
      "Enter your element of tuple 3:6\n",
      "Enter your element of tuple 4:8\n",
      "Enter the value of k: 2\n",
      "\n",
      "Original List of Tuples: [(2, 2, 2, 2), (11, 22), (2, 4, 6, 8)]\n",
      "Tuples with all elements divisible by 2: [(2, 2, 2, 2), (2, 4, 6, 8)]\n"
     ]
    }
   ],
   "source": [
    "n = int(input(\"Enter the number of tuples: \"))\n",
    "tuple_list = []\n",
    "for i in range(1, n + 1):\n",
    "    tup=()\n",
    "    n1 = int(input(f\"Enter your size of tuple {i}:\"))\n",
    "    for j in range(1,n1+1):\n",
    "        element = int(input(f\"Enter your element of tuple {j}:\"))\n",
    "        tup=tup+(element,)\n",
    "    tuple_list.append(tup)\n",
    "k = int(input(\"Enter the value of k: \"))\n",
    "\n",
    "divisible_tuples = []\n",
    "for tup in tuple_list:\n",
    "    is_divisible = True\n",
    "    for element in tup:\n",
    "        if element % k != 0:\n",
    "            is_divisible = False\n",
    "            break\n",
    "    if is_divisible:\n",
    "        divisible_tuples.append(tup)\n",
    "\n",
    "print(\"\\nOriginal List of Tuples:\", tuple_list)\n",
    "print(f\"Tuples with all elements divisible by {k}:\", divisible_tuples)\n"
   ]
  },
  {
   "cell_type": "code",
   "execution_count": null,
   "metadata": {},
   "outputs": [],
   "source": []
  }
 ],
 "metadata": {
  "kernelspec": {
   "display_name": "Python 3 (ipykernel)",
   "language": "python",
   "name": "python3"
  },
  "language_info": {
   "codemirror_mode": {
    "name": "ipython",
    "version": 3
   },
   "file_extension": ".py",
   "mimetype": "text/x-python",
   "name": "python",
   "nbconvert_exporter": "python",
   "pygments_lexer": "ipython3",
   "version": "3.11.5"
  }
 },
 "nbformat": 4,
 "nbformat_minor": 4
}
