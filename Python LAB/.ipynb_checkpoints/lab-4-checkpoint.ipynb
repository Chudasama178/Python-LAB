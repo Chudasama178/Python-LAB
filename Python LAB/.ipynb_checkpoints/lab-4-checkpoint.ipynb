{
 "cells": [
  {
   "cell_type": "markdown",
   "metadata": {},
   "source": [
    "\n",
    "<a href='https://www.darshan.ac.in/'> <img src='https://www.darshan.ac.in/Content/media/DU_Logo.svg' width=\"250\" height=\"300\"/></a>\n",
    "<pre>\n",
    "<center><b><h1>Python Programming - 2304CS401</b></center>\n",
    "<center><b><h1>Lab - 4</b></center>    \n",
    "<pre>"
   ]
  },
  {
   "cell_type": "markdown",
   "metadata": {},
   "source": [
    "# String Handling in python."
   ]
  },
  {
   "cell_type": "markdown",
   "metadata": {},
   "source": [
    "### 01) Write a program to find the length of a string with and without using the len function."
   ]
  },
  {
   "cell_type": "code",
   "execution_count": 1,
   "metadata": {},
   "outputs": [
    {
     "name": "stdout",
     "output_type": "stream",
     "text": [
      "Enter your String:Rahul\n",
      "5\n"
     ]
    }
   ],
   "source": [
    "str = input(\"Enter your String:\")\n",
    "print(\"Using len function:::\")\n",
    "print(len(str))"
   ]
  },
  {
   "cell_type": "code",
   "execution_count": 2,
   "metadata": {},
   "outputs": [
    {
     "name": "stdout",
     "output_type": "stream",
     "text": [
      "Enter your String:Rahul\n",
      "without lan function:::\n",
      "5\n"
     ]
    }
   ],
   "source": [
    "str = input(\"Enter your String:\")\n",
    "print(\"without len function:\")\n",
    "count=0\n",
    "for i in str:\n",
    "    count+=1\n",
    "print(count)"
   ]
  },
  {
   "cell_type": "markdown",
   "metadata": {},
   "source": [
    "### 02) Write a program to remove ith character from the given string."
   ]
  },
  {
   "cell_type": "code",
   "execution_count": 3,
   "metadata": {},
   "outputs": [
    {
     "name": "stdout",
     "output_type": "stream",
     "text": [
      "Enter your String:Darshan\n",
      "Enter your index:2\n",
      "Modified string is:Dashan\n"
     ]
    }
   ],
   "source": [
    "str = input(\"Enter your String:\")\n",
    "index = int(input(\"Enter your index:\"))\n",
    "modified = str[:index]+str[index+1:]\n",
    "print(f\"Modified string is:{modified}\")"
   ]
  },
  {
   "cell_type": "markdown",
   "metadata": {},
   "source": [
    "### 03) Write a program to count ‘R’ in this string. “DARSHAN UNIVERSITY”."
   ]
  },
  {
   "cell_type": "code",
   "execution_count": 6,
   "metadata": {},
   "outputs": [
    {
     "name": "stdout",
     "output_type": "stream",
     "text": [
      "2\n"
     ]
    }
   ],
   "source": [
    "str= \"DARSHAN UNIVERSITY\"\n",
    "print(str.count('R'))"
   ]
  },
  {
   "cell_type": "markdown",
   "metadata": {},
   "source": [
    "### 04) Write a program to count the number of vowels in a given string."
   ]
  },
  {
   "cell_type": "code",
   "execution_count": 7,
   "metadata": {},
   "outputs": [
    {
     "name": "stdout",
     "output_type": "stream",
     "text": [
      "Enter your String:Darshan\n",
      "Count of vowels in given string is :2\n"
     ]
    }
   ],
   "source": [
    "str = input(\"Enter your String:\")\n",
    "count=0\n",
    "for i in str.lower():\n",
    "    if (i=='a'or i=='e'or i=='i'or i=='o'or i=='u'):\n",
    "        count+=1\n",
    "print(f\"Count of vowels in given string is :{count}\")"
   ]
  },
  {
   "cell_type": "markdown",
   "metadata": {},
   "source": [
    "### 05) Write a program to print even-length words in a string."
   ]
  },
  {
   "cell_type": "code",
   "execution_count": 9,
   "metadata": {},
   "outputs": [
    {
     "name": "stdout",
     "output_type": "stream",
     "text": [
      "Enter your String:Darshan Darsh Dars dar Da\n",
      "['Darshan', 'Darsh', 'Dars', 'dar', 'Da']\n",
      "Dars\n",
      "Da\n"
     ]
    }
   ],
   "source": [
    "str = input(\"Enter your String:\")\n",
    "str = str.split()\n",
    "print(str)\n",
    "for i in str:\n",
    "    if (len(i)%2==0):\n",
    "        print(i)"
   ]
  },
  {
   "cell_type": "markdown",
   "metadata": {},
   "source": [
    "### 06) Write a program to check given string is palindrome or not."
   ]
  },
  {
   "cell_type": "code",
   "execution_count": 10,
   "metadata": {},
   "outputs": [
    {
     "name": "stdout",
     "output_type": "stream",
     "text": [
      "Enter your String:aabbaa\n",
      "String is palindrome!!\n"
     ]
    }
   ],
   "source": [
    "str = input(\"Enter your String:\")\n",
    "str1 = str[::-1]\n",
    "if(str==str1):\n",
    "    print(\"String is palindrome!!\")\n",
    "else:\n",
    "    print(\"String is not palindrome!!\")"
   ]
  },
  {
   "cell_type": "markdown",
   "metadata": {},
   "source": [
    "### 07) Write a program to do string slicing from left rotate and right rotate the given string by d elements (where d <= n)."
   ]
  },
  {
   "cell_type": "code",
   "execution_count": 13,
   "metadata": {},
   "outputs": [
    {
     "name": "stdout",
     "output_type": "stream",
     "text": [
      "Enter your String:Darshan University\n",
      "Enter your d element:4\n",
      "Left rotated string is:han UniversityDars\n",
      "Right rotated string is:sityDarshan Univer\n"
     ]
    }
   ],
   "source": [
    "str = input(\"Enter your String:\")\n",
    "d= int(input(\"Enter your d element:\"))\n",
    "left_rotate = str[d:]+str[:d]\n",
    "right_rotate = str[-d:]+str[:-d]\n",
    "print(f\"Left rotated string is:{left_rotate}\")\n",
    "print(f\"Right rotated string is:{right_rotate}\")"
   ]
  },
  {
   "cell_type": "markdown",
   "metadata": {},
   "source": [
    "### 08) Write a program to reverse the word in a given string."
   ]
  },
  {
   "cell_type": "code",
   "execution_count": 16,
   "metadata": {},
   "outputs": [
    {
     "name": "stdout",
     "output_type": "stream",
     "text": [
      "Enter your String:Darshan University \n",
      "Orignal list ['Darshan', 'University']\n",
      "Reverse list ['University', 'Darshan']\n",
      "University Darshan\n"
     ]
    }
   ],
   "source": [
    "str = input(\"Enter your String:\")\n",
    "l1 = str.split()\n",
    "print(f\"Orignal list {l1}\")\n",
    "l2 = l1[::-1]\n",
    "print(f\"Reverse list {l2}\")\n",
    "# l3= \" \".join(l2)\n",
    "# print(l3)"
   ]
  },
  {
   "cell_type": "markdown",
   "metadata": {},
   "source": [
    "### 1) Write a python program to counting Vowels in a given word using List\n"
   ]
  },
  {
   "cell_type": "code",
   "execution_count": 17,
   "metadata": {},
   "outputs": [
    {
     "name": "stdout",
     "output_type": "stream",
     "text": [
      "Enter your String:Darshan University \n",
      "Count of vowels in given string is :6\n"
     ]
    }
   ],
   "source": [
    "str = input(\"Enter your String:\")\n",
    "count=0\n",
    "vowels=['a','e','i','o','u']\n",
    "for i in str.lower():\n",
    "    if i in vowels:\n",
    "        count+=1\n",
    "print(f\"Count of vowels in given string is :{count}\")"
   ]
  },
  {
   "cell_type": "markdown",
   "metadata": {},
   "source": [
    "### 2) Write a python program to counting Consonants in a given word\n"
   ]
  },
  {
   "cell_type": "code",
   "execution_count": null,
   "metadata": {},
   "outputs": [],
   "source": []
  }
 ],
 "metadata": {
  "kernelspec": {
   "display_name": "Python 3 (ipykernel)",
   "language": "python",
   "name": "python3"
  },
  "language_info": {
   "codemirror_mode": {
    "name": "ipython",
    "version": 3
   },
   "file_extension": ".py",
   "mimetype": "text/x-python",
   "name": "python",
   "nbconvert_exporter": "python",
   "pygments_lexer": "ipython3",
   "version": "3.11.5"
  },
  "vscode": {
   "interpreter": {
    "hash": "31f2aee4e71d21fbe5cf8b01ff0e069b9275f58929596ceb00d14d90e3e16cd6"
   }
  }
 },
 "nbformat": 4,
 "nbformat_minor": 4
}
