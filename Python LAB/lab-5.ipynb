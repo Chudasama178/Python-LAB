{
 "cells": [
  {
   "cell_type": "markdown",
   "metadata": {},
   "source": [
    "\n",
    "<a href='https://www.darshan.ac.in/'> <img src='https://www.darshan.ac.in/Content/media/DU_Logo.svg' width=\"250\" height=\"300\"/></a>\n",
    "<pre>\n",
    "<center><b><h1>Python Programming - 2304CS401</b></center>\n",
    "<center><b><h1>Lab - 5</b></center>    \n",
    "<pre>"
   ]
  },
  {
   "cell_type": "markdown",
   "metadata": {},
   "source": [
    "# Understand Working of list"
   ]
  },
  {
   "cell_type": "markdown",
   "metadata": {},
   "source": [
    "### 01) Write a program to find the sum of all the elements in the list."
   ]
  },
  {
   "cell_type": "code",
   "execution_count": 2,
   "metadata": {},
   "outputs": [
    {
     "name": "stdout",
     "output_type": "stream",
     "text": [
      "Enter your number for list::: 3\n",
      "Enter your element 1:: 11\n",
      "Enter your element 2:: 22\n",
      "Enter your element 3:: 33\n",
      "The sum of all elements in the list is: 66\n"
     ]
    }
   ],
   "source": [
    "n = int(input(\"Enter your number for list::: \"))\n",
    "l1 = []\n",
    "\n",
    "for i in range(1, n + 1):\n",
    "    ele = int(input(f\"Enter your element {i}:: \"))\n",
    "    l1.append(ele)\n",
    "\n",
    "ans = sum(l1)\n",
    "\n",
    "print(\"The sum of all elements in the list is:\", ans)\n"
   ]
  },
  {
   "cell_type": "markdown",
   "metadata": {},
   "source": [
    "### 02) Write a program to find the smallest and largest element from the list entered by the user"
   ]
  },
  {
   "cell_type": "code",
   "execution_count": 3,
   "metadata": {},
   "outputs": [
    {
     "name": "stdout",
     "output_type": "stream",
     "text": [
      "Enter your number for list::: 4\n",
      "Enter your element 1:: 11\n",
      "Enter your element 2:: 22\n",
      "Enter your element 3:: 33\n",
      "Enter your element 4:: 44\n",
      "Smallest number in this list is 11\n",
      "Largest number in this list is 44\n"
     ]
    }
   ],
   "source": [
    "n = int(input(\"Enter your number for list::: \"))\n",
    "l1 = []\n",
    "\n",
    "for i in range(1, n + 1):\n",
    "    ele = int(input(f\"Enter your element {i}:: \"))\n",
    "    l1.append(ele)\n",
    "max_element = max(l1)\n",
    "min_element = min(l1)\n",
    "print(f\"Smallest number in this list is {min_element}\")\n",
    "print(f\"Largest number in this list is {max_element}\")"
   ]
  },
  {
   "cell_type": "markdown",
   "metadata": {},
   "source": [
    "### 03) Write a program to take a list from the user split the list into two and append the first part to the end of the list."
   ]
  },
  {
   "cell_type": "code",
   "execution_count": 3,
   "metadata": {},
   "outputs": [
    {
     "name": "stdout",
     "output_type": "stream",
     "text": [
      "Enter your number for list::: 6\n",
      "Enter your element 1:: 11\n",
      "Enter your element 2:: 22\n",
      "Enter your element 3:: 33\n",
      "Enter your element 4:: 44\n",
      "Enter your element 5:: 55\n",
      "Enter your element 6:: 66\n",
      "Original List [11, 22, 33, 44, 55, 66]\n",
      "3\n",
      "[44, 55, 66, 11, 22, 33]\n"
     ]
    }
   ],
   "source": [
    "n = int(input(\"Enter your number for list::: \"))\n",
    "l1 = []\n",
    "\n",
    "for i in range(1, n + 1):\n",
    "    ele = int(input(f\"Enter your element {i}:: \"))\n",
    "    l1.append(ele)\n",
    "print(f\"Original List {l1}\")\n",
    "    \n",
    "l = len(l1)//2\n",
    "print(l)\n",
    "first = l1[:l]\n",
    "second = l1[l:]\n",
    "# second.extend(first)\n",
    "print(second+first )"
   ]
  },
  {
   "cell_type": "markdown",
   "metadata": {},
   "source": [
    "### 04) Write a program to interchange the first and last elements of a list entered by a user."
   ]
  },
  {
   "cell_type": "code",
   "execution_count": 10,
   "metadata": {},
   "outputs": [
    {
     "name": "stdout",
     "output_type": "stream",
     "text": [
      "Enter your number for list::: 3\n",
      "Enter your element 1:: 11\n",
      "Enter your element 2:: 22\n",
      "Enter your element 3:: 33\n",
      "Original list [11, 22, 33]\n",
      "After interchange of element [33, 22, 11]\n"
     ]
    }
   ],
   "source": [
    "n = int(input(\"Enter your number for list::: \"))\n",
    "l1 = []\n",
    "\n",
    "for i in range(1, n + 1):\n",
    "    ele = int(input(f\"Enter your element {i}:: \"))\n",
    "    l1.append(ele)\n",
    "print(f\"Original list {l1}\")\n",
    "l1[0],l1[-1] = l1[-1],l1[0]\n",
    "print(f\"After interchange of element {l1}\")"
   ]
  },
  {
   "cell_type": "markdown",
   "metadata": {},
   "source": [
    "### 05) Write a program to reverse the list entered by the user"
   ]
  },
  {
   "cell_type": "code",
   "execution_count": 16,
   "metadata": {},
   "outputs": [
    {
     "name": "stdout",
     "output_type": "stream",
     "text": [
      "Enter your number for list::: 3\n",
      "Enter your element 1:: 11\n",
      "Enter your element 2:: 22\n",
      "Enter your element 3:: 33\n",
      "[33, 22, 11]\n",
      "[33, 22, 11]\n"
     ]
    }
   ],
   "source": [
    "n = int(input(\"Enter your number for list::: \"))\n",
    "l1 = []\n",
    "\n",
    "for i in range(1, n + 1):\n",
    "    ele = int(input(f\"Enter your element {i}:: \"))\n",
    "    l1.append(ele)\n",
    "print(f\"Original List {l1}\")\n",
    "\n",
    "l2 = list(reversed(l1))\n",
    "print(l2)\n",
    "#or\n",
    "l1.reverse()\n",
    "print(l1)\n"
   ]
  },
  {
   "cell_type": "markdown",
   "metadata": {},
   "source": [
    "### 06) Write a program to print all even numbers of the list entered by the user."
   ]
  },
  {
   "cell_type": "code",
   "execution_count": 4,
   "metadata": {},
   "outputs": [
    {
     "name": "stdout",
     "output_type": "stream",
     "text": [
      "Enter your number for list::: 5\n",
      "Enter your element 1:: 11\n",
      "Enter your element 2:: 22\n",
      "Enter your element 3:: 33\n",
      "Enter your element 4:: 44\n",
      "Enter your element 5:: 55\n",
      "[11, 22, 33, 44, 55]\n",
      "[22, 44]\n"
     ]
    }
   ],
   "source": [
    "n = int(input(\"Enter your number for list::: \"))\n",
    "l1 = []\n",
    "even = []\n",
    "\n",
    "for i in range(1, n + 1):\n",
    "    ele = int(input(f\"Enter your element {i}:: \"))\n",
    "    l1.append(ele)\n",
    "    if(ele%2==0):\n",
    "        even.append(ele)\n",
    "print(l1)\n",
    "print(even)"
   ]
  },
  {
   "cell_type": "markdown",
   "metadata": {},
   "source": [
    "### 07) Write a program to search for an element in a list."
   ]
  },
  {
   "cell_type": "code",
   "execution_count": 20,
   "metadata": {},
   "outputs": [
    {
     "name": "stdout",
     "output_type": "stream",
     "text": [
      "Enter your number for list::: 4\n",
      "Enter your element 1:: 1\n",
      "Enter your element 2:: 2\n",
      "Enter your element 3:: 3\n",
      "Enter your element 4:: 4\n",
      "Enter your search element::11\n",
      "Elment is not found\n"
     ]
    }
   ],
   "source": [
    "n = int(input(\"Enter your number for list::: \"))\n",
    "l1 = []\n",
    "\n",
    "for i in range(1, n + 1):\n",
    "    ele = int(input(f\"Enter your element {i}:: \"))\n",
    "    l1.append(ele)\n",
    "search = int(input(\"Enter your search element::\"))\n",
    "flag = False\n",
    "for i in l1:\n",
    "    if(i==search):\n",
    "        flag=True\n",
    "        break\n",
    "if(flag):\n",
    "    print(\"Element found\")\n",
    "else:\n",
    "    print(\"Elment is not found\")"
   ]
  },
  {
   "cell_type": "markdown",
   "metadata": {},
   "source": [
    "### 08) Write a program to sort a list in ascending order"
   ]
  },
  {
   "cell_type": "code",
   "execution_count": 25,
   "metadata": {},
   "outputs": [
    {
     "name": "stdout",
     "output_type": "stream",
     "text": [
      "Enter your number for list::: 3\n",
      "Enter your element 1:: 22\n",
      "Enter your element 2:: 11\n",
      "Enter your element 3:: 00\n",
      "Sorted list is [0, 11, 22]\n"
     ]
    }
   ],
   "source": [
    "n = int(input(\"Enter your number for list::: \"))\n",
    "l1 = []\n",
    "\n",
    "for i in range(1, n + 1):\n",
    "    ele = int(input(f\"Enter your element {i}:: \"))\n",
    "    l1.append(ele)\n",
    "print(f\"Original List {l1}\")\n",
    "l1.sort()\n",
    "print(f\"Sorted list is {l1}\")"
   ]
  },
  {
   "cell_type": "markdown",
   "metadata": {},
   "source": [
    "### 09) Write a program to convert a list of characters entered by the user into a string."
   ]
  },
  {
   "cell_type": "code",
   "execution_count": 28,
   "metadata": {},
   "outputs": [
    {
     "name": "stdout",
     "output_type": "stream",
     "text": [
      "Enter your number for list::: 5\n",
      "Enter your Charecter 1:: R\n",
      "Enter your Charecter 2:: a\n",
      "Enter your Charecter 3:: h\n",
      "Enter your Charecter 4:: u\n",
      "Enter your Charecter 5:: l\n",
      "Original List ['R', 'a', 'h', 'u', 'l']\n",
      "Rahul\n"
     ]
    }
   ],
   "source": [
    "n = int(input(\"Enter your number for list::: \"))\n",
    "l1 = []\n",
    "\n",
    "for i in range(1, n + 1):\n",
    "    ele =input(f\"Enter your Charecter {i}:: \")\n",
    "    l1.append(ele)\n",
    "print(f\"Original List {l1}\")\n",
    "str = \"\".join(l1)\n",
    "print(str)"
   ]
  },
  {
   "cell_type": "markdown",
   "metadata": {},
   "source": [
    "### 10) Write a program to interchange the list elements based on two positions entered by a user"
   ]
  },
  {
   "cell_type": "code",
   "execution_count": 29,
   "metadata": {},
   "outputs": [
    {
     "name": "stdout",
     "output_type": "stream",
     "text": [
      "Enter your number for list::: 5\n",
      "Enter your element 1:: 11\n",
      "Enter your element 2:: 22\n",
      "Enter your element 3:: 33\n",
      "Enter your element 4:: 44\n",
      "Enter your element 5:: 55\n",
      "Enter your position 1::2\n",
      "Enter your position 2::3\n",
      "Original list [11, 22, 33, 44, 55]\n",
      "After interchange of element [11, 22, 44, 33, 55]\n"
     ]
    }
   ],
   "source": [
    "n = int(input(\"Enter your number for list::: \"))\n",
    "l1 = []\n",
    "\n",
    "for i in range(1, n + 1):\n",
    "    ele = int(input(f\"Enter your element {i}:: \"))\n",
    "    l1.append(ele)\n",
    "p1 = int(input(\"Enter your position 1::\"))\n",
    "p2 = int(input(\"Enter your position 2::\"))\n",
    "\n",
    "print(f\"Original list {l1}\")\n",
    "l1[p1],l1[p2] = l1[p2],l1[p1]\n",
    "print(f\"After interchange of element {l1}\")"
   ]
  },
  {
   "cell_type": "markdown",
   "metadata": {},
   "source": [
    "### 11) Write a program to print all odd numbers of the list entered by the user."
   ]
  },
  {
   "cell_type": "code",
   "execution_count": 30,
   "metadata": {},
   "outputs": [
    {
     "name": "stdout",
     "output_type": "stream",
     "text": [
      "Enter your number for list::: 5\n",
      "Enter your element 1:: 1\n",
      "Enter your element 2:: 2\n",
      "Enter your element 3:: 3\n",
      "Enter your element 4:: 4\n",
      "Enter your element 5:: 5\n",
      "1\n",
      "3\n",
      "5\n"
     ]
    }
   ],
   "source": [
    "n = int(input(\"Enter your number for list::: \"))\n",
    "l1 = []\n",
    "\n",
    "for i in range(1, n + 1):\n",
    "    ele = int(input(f\"Enter your element {i}:: \"))\n",
    "    l1.append(ele)\n",
    "for i in l1:\n",
    "    if(i%2!=0):\n",
    "        print(i)"
   ]
  },
  {
   "cell_type": "markdown",
   "metadata": {},
   "source": [
    "### 12) Write a program to enter the name, quantity, and price of five products by a user. Generate and print all the details with the product’s total amount in a formatted manner using list"
   ]
  },
  {
   "cell_type": "code",
   "execution_count": 7,
   "metadata": {},
   "outputs": [
    {
     "name": "stdout",
     "output_type": "stream",
     "text": [
      "Enter details for product 1:\n",
      "Enter name: Notebook\n",
      "Enter quantity: 23\n",
      "Enter price: 12\n",
      "[['Notebook', 23, 12.0, 276.0]]\n",
      "\n",
      "Product Details:\n",
      "Name           Quantity  Price     Total_Amount   \n",
      "----------------------------------------\n",
      "Notebook       23        12.0      276.0          \n"
     ]
    }
   ],
   "source": [
    "products = []\n",
    "for i in range(1, 2):\n",
    "    print(f\"Enter details for product {i}:\")\n",
    "    name = input(\"Enter name: \")\n",
    "    quantity = int(input(\"Enter quantity: \"))\n",
    "    price = float(input(\"Enter price: \"))\n",
    "    total_amount = quantity * price\n",
    "    products.append([name, quantity, price, total_amount])\n",
    "# print(products)\n",
    "print(\"\\nProduct Details:\")\n",
    "print(\"{:<15}{:<10}{:<10}{:<15}\".format(\"Name\",\"Quantity\",\"Price\",\"Total_Amount\"))\n",
    "print(\"-\"*40)\n",
    "for product in products:\n",
    "    print(\"{:<15}{:<10}{:<10}{:<15}\".format(product[0],product[1],product[2],product[3]))"
   ]
  },
  {
   "cell_type": "code",
   "execution_count": null,
   "metadata": {},
   "outputs": [],
   "source": []
  }
 ],
 "metadata": {
  "kernelspec": {
   "display_name": "Python 3 (ipykernel)",
   "language": "python",
   "name": "python3"
  },
  "language_info": {
   "codemirror_mode": {
    "name": "ipython",
    "version": 3
   },
   "file_extension": ".py",
   "mimetype": "text/x-python",
   "name": "python",
   "nbconvert_exporter": "python",
   "pygments_lexer": "ipython3",
   "version": "3.11.5"
  }
 },
 "nbformat": 4,
 "nbformat_minor": 4
}
